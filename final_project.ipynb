{
 "cells": [
  {
   "cell_type": "markdown",
   "metadata": {},
   "source": [
    "# Zobe Murray and Abby Hidalgo \n",
    "# Chemicals and Cosmetics"
   ]
  },
  {
   "cell_type": "code",
   "execution_count": null,
   "metadata": {},
   "outputs": [],
   "source": []
  },
  {
   "cell_type": "markdown",
   "metadata": {},
   "source": []
  },
  {
   "cell_type": "markdown",
   "metadata": {},
   "source": [
    "## Potential impact of the results:\n",
    "### This project has the potential to educate people on what chemicals are considered harmful in their everyday cosmetics products. This could streamline the process of turning to the back of a bottle of body wash, reading through, and looking up each ingredient to make sure what you are putting on your skin is safe. These results inform cosmetics buyers of the harmful ingredients that they are exposing themselves to if they buy certain brands. The stakeholders in this project are men,women,children and everyone in between. Every person is bound to use shampoo at least once a week and how does one know if they have picked a safe shampoo without spending hours researching ingredients? This program assists in making your day to day experience a bit safer. "
   ]
  }
 ],
 "metadata": {
  "kernelspec": {
   "display_name": "Practice",
   "language": "python",
   "name": "python3"
  },
  "language_info": {
   "name": "python",
   "version": "3.12.4"
  }
 },
 "nbformat": 4,
 "nbformat_minor": 2
}
