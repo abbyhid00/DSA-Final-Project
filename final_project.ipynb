{
 "cells": [
  {
   "cell_type": "markdown",
   "metadata": {},
   "source": [
    "# Zobe Murray and Abby Hidalgo \n",
    "# Chemicals and Cosmetics"
   ]
  },
  {
   "cell_type": "markdown",
   "metadata": {},
   "source": [
    "## Dataset Description\n",
    "### Dataset 1 from [Data.gov](https://catalog.data.gov/dataset/chemicals-in-cosmetics-2a971). The dataset is in the form of a csv files. It contains information about cosmetic products that have been reported for having hazardous and potentially hazardous chemicals. Dataset 2 from [kaggle.com](https://www.kaggle.com/datasets/kingabzpro/cosmetics-datasets). The dataset has lists of ingredients for different cosmetics. We will attempt to predict the reported ingredient in the product based on cosmetic company, category, and ingredient list.\n"
   ]
  },
  {
   "cell_type": "markdown",
   "metadata": {},
   "source": [
    "## Implementation/Technical Merit\n",
    "\n",
    "### We anticipate there will be some difficulty joining our datasets if there are not enough matches and we may not be able to use our dataset. There also might be a skewed prediction result because the majority of the reported chemicals are titanium dioxide. This means that we should be careful when analyzing our model's evaluation metrics. We do not believe we will be predicting on enough attributes to require choosing attributes to keep from overfitting. We will, however, be selecting features that we think will lead to better predictions from the model."
   ]
  },
  {
   "cell_type": "markdown",
   "metadata": {},
   "source": [
    "## Potential impact of the results:\n",
    "### This project has the potential to educate people on what chemicals are considered harmful in their everyday cosmetics products. This could streamline the process of turning to the back of a bottle of body wash, reading through, and looking up each ingredient to make sure what you are putting on your skin is safe. These results inform cosmetics buyers of the harmful ingredients that they are exposing themselves to if they buy certain brands. The stakeholders in this project are men,women,children and everyone in between. Every person is bound to use shampoo at least once a week and how does one know if they have picked a safe shampoo without spending hours researching ingredients? This program assists in making your day to day experience a bit safer. "
   ]
  }
 ],
 "metadata": {
  "kernelspec": {
   "display_name": "Practice",
   "language": "python",
   "name": "python3"
  },
  "language_info": {
   "name": "python",
   "version": "3.12.4"
  }
 },
 "nbformat": 4,
 "nbformat_minor": 2
}
