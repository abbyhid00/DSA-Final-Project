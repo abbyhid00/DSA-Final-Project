{
 "cells": [
  {
   "cell_type": "markdown",
   "metadata": {},
   "source": [
    "# Joining of Datasets on Brand Name"
   ]
  },
  {
   "cell_type": "code",
   "execution_count": 10,
   "metadata": {},
   "outputs": [],
   "source": [
    "import importlib\n",
    "\n",
    "import analysis_code.myevaluation\n",
    "importlib.reload(analysis_code.myevaluation)\n",
    "import analysis_code.myevaluation as myevaluation\n",
    "\n",
    "import analysis_code.myutils\n",
    "importlib.reload(analysis_code.myutils)\n",
    "import analysis_code.myutils as myutils\n",
    "\n",
    "import analysis_code.mypytable\n",
    "importlib.reload(analysis_code.mypytable)\n",
    "from analysis_code.mypytable import MyPyTable \n",
    "\n",
    "import analysis_code.myclassifiers\n",
    "importlib.reload(analysis_code.myclassifiers)\n",
    "from analysis_code.myclassifiers import MyKNeighborsClassifier, MyNaiveBayesClassifier\n",
    "\n",
    "import tabulate\n",
    "from tabulate import tabulate"
   ]
  },
  {
   "cell_type": "code",
   "execution_count": 22,
   "metadata": {},
   "outputs": [
    {
     "name": "stdout",
     "output_type": "stream",
     "text": [
      "number of rows  13\n",
      "number of cols  32\n"
     ]
    }
   ],
   "source": [
    "raw_data = MyPyTable()\n",
    "raw_data2 = MyPyTable()\n",
    "X = []\n",
    "Y = []\n",
    "raw_data = raw_data.load_from_file(\"california_cosmetics.csv\")\n",
    "raw_data2 = raw_data2.load_from_file(\"cosmetics_kaggle.csv\")\n",
    "data_joined = raw_data.perform_inner_join(raw_data2, [\"BrandName\"])\n",
    "duplicates = data_joined.find_duplicates([\"BrandName\"])\n",
    "data_joined.drop_rows(duplicates)\n",
    "data_joined.save_to_file(\"cosmetics_clean.csv\")\n",
    "row, col = data_joined.get_shape()\n",
    "print(\"number of rows \", row)\n",
    "print(\"number of cols \", col)"
   ]
  },
  {
   "cell_type": "markdown",
   "metadata": {},
   "source": [
    "#### Based on this evidence of "
   ]
  },
  {
   "cell_type": "code",
   "execution_count": null,
   "metadata": {},
   "outputs": [],
   "source": []
  }
 ],
 "metadata": {
  "kernelspec": {
   "display_name": "base",
   "language": "python",
   "name": "python3"
  },
  "language_info": {
   "codemirror_mode": {
    "name": "ipython",
    "version": 3
   },
   "file_extension": ".py",
   "mimetype": "text/x-python",
   "name": "python",
   "nbconvert_exporter": "python",
   "pygments_lexer": "ipython3",
   "version": "3.12.4"
  }
 },
 "nbformat": 4,
 "nbformat_minor": 2
}
