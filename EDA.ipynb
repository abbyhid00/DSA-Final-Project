{
 "cells": [
  {
   "cell_type": "markdown",
   "metadata": {},
   "source": [
    "# Joining of Datasets on Brand Name"
   ]
  },
  {
   "cell_type": "code",
   "execution_count": 10,
   "metadata": {},
   "outputs": [],
   "source": [
    "import importlib\n",
    "\n",
    "import analysis_code.myevaluation\n",
    "importlib.reload(analysis_code.myevaluation)\n",
    "import analysis_code.myevaluation as myevaluation\n",
    "\n",
    "import analysis_code.myutils\n",
    "importlib.reload(analysis_code.myutils)\n",
    "import analysis_code.myutils as myutils\n",
    "\n",
    "import analysis_code.mypytable\n",
    "importlib.reload(analysis_code.mypytable)\n",
    "from analysis_code.mypytable import MyPyTable \n",
    "\n",
    "import analysis_code.myclassifiers\n",
    "importlib.reload(analysis_code.myclassifiers)\n",
    "from analysis_code.myclassifiers import MyKNeighborsClassifier, MyNaiveBayesClassifier\n",
    "\n",
    "import tabulate\n",
    "from tabulate import tabulate"
   ]
  },
  {
   "cell_type": "code",
   "execution_count": null,
   "metadata": {},
   "outputs": [
    {
     "ename": "TypeError",
     "evalue": "cannot unpack non-iterable method object",
     "output_type": "error",
     "traceback": [
      "\u001b[1;31m---------------------------------------------------------------------------\u001b[0m",
      "\u001b[1;31mTypeError\u001b[0m                                 Traceback (most recent call last)",
      "Cell \u001b[1;32mIn[13], line 9\u001b[0m\n\u001b[0;32m      7\u001b[0m data_joined \u001b[38;5;241m=\u001b[39m raw_data\u001b[38;5;241m.\u001b[39mperform_inner_join(raw_data2, [\u001b[38;5;124m\"\u001b[39m\u001b[38;5;124mBrandName\u001b[39m\u001b[38;5;124m\"\u001b[39m])\n\u001b[0;32m      8\u001b[0m data_joined\u001b[38;5;241m.\u001b[39msave_to_file(\u001b[38;5;124m\"\u001b[39m\u001b[38;5;124mcosmetics_clean.csv\u001b[39m\u001b[38;5;124m\"\u001b[39m)\n\u001b[1;32m----> 9\u001b[0m row, col \u001b[38;5;241m=\u001b[39m data_joined\u001b[38;5;241m.\u001b[39mget_shape\n\u001b[0;32m     10\u001b[0m \u001b[38;5;28mprint\u001b[39m(\u001b[38;5;124m\"\u001b[39m\u001b[38;5;124mnumber of rows \u001b[39m\u001b[38;5;124m\"\u001b[39m, row)\n\u001b[0;32m     11\u001b[0m \u001b[38;5;28mprint\u001b[39m(\u001b[38;5;124m\"\u001b[39m\u001b[38;5;124mnumber of cols \u001b[39m\u001b[38;5;124m\"\u001b[39m, col)\n",
      "\u001b[1;31mTypeError\u001b[0m: cannot unpack non-iterable method object"
     ]
    }
   ],
   "source": [
    "raw_data = MyPyTable()\n",
    "raw_data2 = MyPyTable()\n",
    "X = []\n",
    "Y = []\n",
    "raw_data = raw_data.load_from_file(\"california_cosmetics.csv\")\n",
    "raw_data2 = raw_data2.load_from_file(\"cosmetics_kaggle.csv\")\n",
    "data_joined = raw_data.perform_inner_join(raw_data2, [\"BrandName\"])\n",
    "data_joined.save_to_file(\"cosmetics_clean.csv\")\n",
    "row, col = data_joined.get_shape()\n",
    "print(\"number of rows \", row)\n",
    "print(\"number of cols \", col)"
   ]
  }
 ],
 "metadata": {
  "kernelspec": {
   "display_name": "base",
   "language": "python",
   "name": "python3"
  },
  "language_info": {
   "codemirror_mode": {
    "name": "ipython",
    "version": 3
   },
   "file_extension": ".py",
   "mimetype": "text/x-python",
   "name": "python",
   "nbconvert_exporter": "python",
   "pygments_lexer": "ipython3",
   "version": "3.12.4"
  }
 },
 "nbformat": 4,
 "nbformat_minor": 2
}
