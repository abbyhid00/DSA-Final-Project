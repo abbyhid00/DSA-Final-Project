{
 "cells": [
  {
   "cell_type": "markdown",
   "metadata": {},
   "source": [
    "# Joining of Datasets on Brand Name"
   ]
  },
  {
   "cell_type": "code",
   "execution_count": 72,
   "metadata": {},
   "outputs": [],
   "source": [
    "import importlib\n",
    "\n",
    "import analysis_code.myevaluation\n",
    "importlib.reload(analysis_code.myevaluation)\n",
    "import analysis_code.myevaluation as myevaluation\n",
    "\n",
    "import analysis_code.myutils\n",
    "importlib.reload(analysis_code.myutils)\n",
    "import analysis_code.myutils as myutils\n",
    "\n",
    "import analysis_code.mypytable\n",
    "importlib.reload(analysis_code.mypytable)\n",
    "from analysis_code.mypytable import MyPyTable \n",
    "\n",
    "import analysis_code.myclassifiers\n",
    "importlib.reload(analysis_code.myclassifiers)\n",
    "from analysis_code.myclassifiers import MyKNeighborsClassifier, MyNaiveBayesClassifier\n",
    "\n",
    "#import analysis_code.plot_utils\n",
    "#importlib.reload(analysis_code.plot_utils)\n",
    "\n",
    "import tabulate\n",
    "from tabulate import tabulate\n",
    "import numpy as np"
   ]
  },
  {
   "cell_type": "code",
   "execution_count": 18,
   "metadata": {},
   "outputs": [
    {
     "name": "stdout",
     "output_type": "stream",
     "text": [
      "number of rows  13\n",
      "number of cols  32\n"
     ]
    }
   ],
   "source": [
    "raw_data = MyPyTable()\n",
    "raw_data2 = MyPyTable()\n",
    "X = []\n",
    "Y = []\n",
    "raw_data = raw_data.load_from_file(\"california_cosmetics.csv\")\n",
    "raw_data2 = raw_data2.load_from_file(\"cosmetics_kaggle.csv\")\n",
    "data_joined = raw_data.perform_inner_join(raw_data2, [\"BrandName\"])\n",
    "duplicates = data_joined.find_duplicates([\"BrandName\"])\n",
    "data_joined.drop_rows(duplicates)\n",
    "data_joined.save_to_file(\"cosmetics_clean.csv\")\n",
    "row, col = data_joined.get_shape()\n",
    "print(\"number of rows \", row)\n",
    "print(\"number of cols \", col)"
   ]
  },
  {
   "cell_type": "markdown",
   "metadata": {},
   "source": [
    "#### Based on the lack of matching columns we decided to move away from using the cosmetics kaggle data set and instead are splitting the data set in order to test our classifiers. The size of our dataset is sufficient due to it being more than 100,000 entries that need to be sorted through."
   ]
  },
  {
   "cell_type": "code",
   "execution_count": 39,
   "metadata": {},
   "outputs": [
    {
     "name": "stdout",
     "output_type": "stream",
     "text": [
      "number of rows  499\n",
      "number of cols  22\n"
     ]
    }
   ],
   "source": [
    "subset = MyPyTable().load_from_file(\"cali_subset.csv\")\n",
    "row, col = subset.get_shape()\n",
    "print(\"number of rows \", row)\n",
    "print(\"number of cols \", col)"
   ]
  },
  {
   "cell_type": "code",
   "execution_count": 40,
   "metadata": {},
   "outputs": [
    {
     "name": "stdout",
     "output_type": "stream",
     "text": [
      "number of rows  499\n",
      "number of cols  22\n"
     ]
    }
   ],
   "source": [
    "subset = subset.remove_rows_with_missing_values()\n",
    "row, col = subset.get_shape()\n",
    "print(\"number of rows \", row)\n",
    "print(\"number of cols \", col)"
   ]
  },
  {
   "cell_type": "code",
   "execution_count": 73,
   "metadata": {},
   "outputs": [],
   "source": [
    "y = subset.get_column(\"ChemicalName\")\n",
    "columns = [\"CompanyName\", \"BrandName\", \"PrimaryCategory\", \"SubCategory\"]\n",
    "X = []\n",
    "for i in range(len(subset.data)):\n",
    "    instance_data = []\n",
    "    for col in columns:\n",
    "        instance_data.append(subset.get_column(col)[i])\n",
    "    X.append(instance_data)"
   ]
  },
  {
   "cell_type": "code",
   "execution_count": 47,
   "metadata": {},
   "outputs": [],
   "source": [
    "#initializing classifiers\n",
    "naive_class = MyNaiveBayesClassifier()\n",
    "knn_class = MyKNeighborsClassifier()\n",
    "#splitting data\n",
    "split = myevaluation.stratified_kfold_split(X, y, 10, 0)\n",
    "y_tests = []\n",
    "y_pred_naive = []\n",
    "y_pred_knn = []\n",
    "#training the data and then predicting on test sets\n",
    "for fold in split:\n",
    "    X_train, X_test, y_train, y_test = myutils.get_train_test(X, y, fold)\n",
    "    naive_class.fit(X_train, y_train)\n",
    "    knn_class.fit(X_train, y_train)\n",
    "    y_pred_naive.extend(naive_class.predict(X_test))\n",
    "    y_pred_knn.extend(knn_class.predict(X_test))\n",
    "    y_tests.extend(y_test)"
   ]
  },
  {
   "cell_type": "code",
   "execution_count": 48,
   "metadata": {},
   "outputs": [
    {
     "name": "stdout",
     "output_type": "stream",
     "text": [
      "================================================\n",
      "Naive Bayes Metrics\n",
      "================================================\n",
      "Accuracy: 0.94\n",
      "Error Rate: 0.06\n",
      "Precision: 0.0\n",
      "Recall: 0.0\n",
      "F1 Score: 0.0\n",
      "Confusion Matrix:\n",
      "                                                                                                       Butylated hydroxyanisole    Chromium (hexavalent compounds)    Cocamide diethanolamine    Coffea arabica extract    Distillates (coal tar)    Estragole    Retinol    Retinol/retinyl esters, when in daily dosages in excess of 10,000 IU, or 3,000 retinol equivalents.    Titanium dioxide    Toluene    Vitamin A    Vitamin A palmitate    Total  Recognition (%)\n",
      "---------------------------------------------------------------------------------------------------  --------------------------  ---------------------------------  -------------------------  ------------------------  ------------------------  -----------  ---------  -----------------------------------------------------------------------------------------------------  ------------------  ---------  -----------  ---------------------  -------  -----------------\n",
      "Butylated hydroxyanisole                                                                                                      0                                  0                          0                         0                         0            0          2                                                                                                      0                   0          0            0                      0        2  0.00%\n",
      "Chromium (hexavalent compounds)                                                                                               0                                  0                          1                         0                         0            0          0                                                                                                      0                   0          0            0                      0        1  0.00%\n",
      "Cocamide diethanolamine                                                                                                       0                                  1                          0                         0                         0            0          0                                                                                                      0                   3          0            0                      0        4  0.00%\n",
      "Coffea arabica extract                                                                                                        0                                  0                          0                         0                         0            0          0                                                                                                      0                   1          0            0                      0        1  0.00%\n",
      "Distillates (coal tar)                                                                                                        0                                  0                          0                         0                         0            0          0                                                                                                      0                   1          0            0                      0        1  0.00%\n",
      "Estragole                                                                                                                     0                                  0                          0                         0                         0            0          0                                                                                                      0                   1          0            0                      0        1  0.00%\n",
      "Retinol                                                                                                                       1                                  0                          0                         0                         0            0          0                                                                                                      1                   1          0            1                      1        5  0.00%\n",
      "Retinol/retinyl esters, when in daily dosages in excess of 10,000 IU, or 3,000 retinol equivalents.                           0                                  0                          0                         0                         0            0          0                                                                                                     12                   2          0            1                      0       15  80.00%\n",
      "Titanium dioxide                                                                                                              0                                  0                          1                         1                         0            0          0                                                                                                      7                 455          0            1                      0      465  97.85%\n",
      "Toluene                                                                                                                       0                                  0                          0                         0                         0            0          0                                                                                                      0                   1          0            0                      0        1  0.00%\n",
      "Vitamin A                                                                                                                     0                                  0                          0                         0                         0            0          0                                                                                                      1                   0          0            0                      0        1  0.00%\n",
      "Vitamin A palmitate                                                                                                           0                                  0                          0                         0                         0            0          2                                                                                                      0                   0          0            0                      0        2  0.00%\n",
      "================================================\n",
      "kNN Metrics\n",
      "================================================\n",
      "Accuracy: 0.78\n",
      "Error Rate: 0.22\n",
      "Precision: 0.02\n",
      "Recall: 1.0\n",
      "F1 Score: 0.04\n",
      "Confusion Matrix:\n",
      "                                                                                                       Butylated hydroxyanisole    Chromium (hexavalent compounds)    Cocamide diethanolamine    Coffea arabica extract    Distillates (coal tar)    Estragole    Retinol    Retinol/retinyl esters, when in daily dosages in excess of 10,000 IU, or 3,000 retinol equivalents.    Titanium dioxide    Toluene    Vitamin A    Vitamin A palmitate    Total  Recognition (%)\n",
      "---------------------------------------------------------------------------------------------------  --------------------------  ---------------------------------  -------------------------  ------------------------  ------------------------  -----------  ---------  -----------------------------------------------------------------------------------------------------  ------------------  ---------  -----------  ---------------------  -------  -----------------\n",
      "Butylated hydroxyanisole                                                                                                      2                                  0                          0                         0                         0            0          0                                                                                                      0                   0          0            0                      0        2  100.00%\n",
      "Chromium (hexavalent compounds)                                                                                               1                                  0                          0                         0                         0            0          0                                                                                                      0                   0          0            0                      0        1  0.00%\n",
      "Cocamide diethanolamine                                                                                                       4                                  0                          0                         0                         0            0          0                                                                                                      0                   0          0            0                      0        4  0.00%\n",
      "Coffea arabica extract                                                                                                        1                                  0                          0                         0                         0            0          0                                                                                                      0                   0          0            0                      0        1  0.00%\n",
      "Distillates (coal tar)                                                                                                        1                                  0                          0                         0                         0            0          0                                                                                                      0                   0          0            0                      0        1  0.00%\n",
      "Estragole                                                                                                                     1                                  0                          0                         0                         0            0          0                                                                                                      0                   0          0            0                      0        1  0.00%\n",
      "Retinol                                                                                                                       3                                  0                          0                         0                         0            0          0                                                                                                      1                   0          0            1                      0        5  0.00%\n",
      "Retinol/retinyl esters, when in daily dosages in excess of 10,000 IU, or 3,000 retinol equivalents.                           3                                  0                          0                         0                         0            0          0                                                                                                     10                   1          0            1                      0       15  66.67%\n",
      "Titanium dioxide                                                                                                             83                                  0                          0                         0                         0            0          1                                                                                                      5                 376          0            0                      0      465  80.86%\n",
      "Toluene                                                                                                                       1                                  0                          0                         0                         0            0          0                                                                                                      0                   0          0            0                      0        1  0.00%\n",
      "Vitamin A                                                                                                                     0                                  0                          0                         0                         0            0          0                                                                                                      1                   0          0            0                      0        1  0.00%\n",
      "Vitamin A palmitate                                                                                                           2                                  0                          0                         0                         0            0          0                                                                                                      0                   0          0            0                      0        2  0.00%\n"
     ]
    }
   ],
   "source": [
    "#printing the metrics\n",
    "print(\"================================================\")\n",
    "print(\"Naive Bayes Metrics\")\n",
    "print(\"================================================\")\n",
    "myutils.print_metrics(y_pred_naive, y_tests)\n",
    "print(\"================================================\")\n",
    "print(\"kNN Metrics\")\n",
    "print(\"================================================\")\n",
    "myutils.print_metrics(y_pred_knn, y_tests)"
   ]
  },
  {
   "cell_type": "code",
   "execution_count": null,
   "metadata": {},
   "outputs": [
    {
     "name": "stdout",
     "output_type": "stream",
     "text": [
      "================================================\n",
      "Naive Bayes Report\n",
      "================================================\n",
      "+-----------------------------------------------------------------------------------------------------+-------------+----------+------------+-----------+\n",
      "|                                                                                                     | precision   | recall   |   f1-score |   support |\n",
      "+=====================================================================================================+=============+==========+============+===========+\n",
      "| Butylated hydroxyanisole                                                                            | 0.0         | 0.0      |       0    |         2 |\n",
      "+-----------------------------------------------------------------------------------------------------+-------------+----------+------------+-----------+\n",
      "| Chromium (hexavalent compounds)                                                                     | 0.0         | 0.0      |       0    |         1 |\n",
      "+-----------------------------------------------------------------------------------------------------+-------------+----------+------------+-----------+\n",
      "| Cocamide diethanolamine                                                                             | 0.0         | 0.0      |       0    |         4 |\n",
      "+-----------------------------------------------------------------------------------------------------+-------------+----------+------------+-----------+\n",
      "| Coffea arabica extract                                                                              | 0.0         | 0.0      |       0    |         1 |\n",
      "+-----------------------------------------------------------------------------------------------------+-------------+----------+------------+-----------+\n",
      "| Distillates (coal tar)                                                                              | 0.0         | 0.0      |       0    |         1 |\n",
      "+-----------------------------------------------------------------------------------------------------+-------------+----------+------------+-----------+\n",
      "| Estragole                                                                                           | 0.0         | 0.0      |       0    |         1 |\n",
      "+-----------------------------------------------------------------------------------------------------+-------------+----------+------------+-----------+\n",
      "| Retinol                                                                                             | 0.0         | 0.0      |       0    |         5 |\n",
      "+-----------------------------------------------------------------------------------------------------+-------------+----------+------------+-----------+\n",
      "| Retinol/retinyl esters, when in daily dosages in excess of 10,000 IU, or 3,000 retinol equivalents. | 0.57        | 0.8      |       0.67 |        15 |\n",
      "+-----------------------------------------------------------------------------------------------------+-------------+----------+------------+-----------+\n",
      "| Titanium dioxide                                                                                    | 0.98        | 0.98     |       0.98 |       465 |\n",
      "+-----------------------------------------------------------------------------------------------------+-------------+----------+------------+-----------+\n",
      "| Toluene                                                                                             | 0.0         | 0.0      |       0    |         1 |\n",
      "+-----------------------------------------------------------------------------------------------------+-------------+----------+------------+-----------+\n",
      "| Vitamin A                                                                                           | 0.0         | 0.0      |       0    |         1 |\n",
      "+-----------------------------------------------------------------------------------------------------+-------------+----------+------------+-----------+\n",
      "| Vitamin A palmitate                                                                                 | 0.0         | 0.0      |       0    |         2 |\n",
      "+-----------------------------------------------------------------------------------------------------+-------------+----------+------------+-----------+\n",
      "| accuracy                                                                                            |             |          |       0.94 |       499 |\n",
      "+-----------------------------------------------------------------------------------------------------+-------------+----------+------------+-----------+\n",
      "| macro avg                                                                                           | 0.13        | 0.15     |       0.14 |       499 |\n",
      "+-----------------------------------------------------------------------------------------------------+-------------+----------+------------+-----------+\n",
      "| weighted avg                                                                                        | 0.93        | 0.94     |       0.93 |       499 |\n",
      "+-----------------------------------------------------------------------------------------------------+-------------+----------+------------+-----------+\n",
      "================================================\n",
      "kNN Report\n",
      "================================================\n",
      "+-----------------------------------------------------------------------------------------------------+-------------+----------+------------+-----------+\n",
      "|                                                                                                     | precision   | recall   |   f1-score |   support |\n",
      "+=====================================================================================================+=============+==========+============+===========+\n",
      "| Butylated hydroxyanisole                                                                            | 0.02        | 1.0      |       0.04 |         2 |\n",
      "+-----------------------------------------------------------------------------------------------------+-------------+----------+------------+-----------+\n",
      "| Chromium (hexavalent compounds)                                                                     | 0.0         | 0.0      |       0    |         1 |\n",
      "+-----------------------------------------------------------------------------------------------------+-------------+----------+------------+-----------+\n",
      "| Cocamide diethanolamine                                                                             | 0.0         | 0.0      |       0    |         4 |\n",
      "+-----------------------------------------------------------------------------------------------------+-------------+----------+------------+-----------+\n",
      "| Coffea arabica extract                                                                              | 0.0         | 0.0      |       0    |         1 |\n",
      "+-----------------------------------------------------------------------------------------------------+-------------+----------+------------+-----------+\n",
      "| Distillates (coal tar)                                                                              | 0.0         | 0.0      |       0    |         1 |\n",
      "+-----------------------------------------------------------------------------------------------------+-------------+----------+------------+-----------+\n",
      "| Estragole                                                                                           | 0.0         | 0.0      |       0    |         1 |\n",
      "+-----------------------------------------------------------------------------------------------------+-------------+----------+------------+-----------+\n",
      "| Retinol                                                                                             | 0.0         | 0.0      |       0    |         5 |\n",
      "+-----------------------------------------------------------------------------------------------------+-------------+----------+------------+-----------+\n",
      "| Retinol/retinyl esters, when in daily dosages in excess of 10,000 IU, or 3,000 retinol equivalents. | 0.59        | 0.67     |       0.63 |        15 |\n",
      "+-----------------------------------------------------------------------------------------------------+-------------+----------+------------+-----------+\n",
      "| Titanium dioxide                                                                                    | 1.0         | 0.81     |       0.9  |       465 |\n",
      "+-----------------------------------------------------------------------------------------------------+-------------+----------+------------+-----------+\n",
      "| Toluene                                                                                             | 0.0         | 0.0      |       0    |         1 |\n",
      "+-----------------------------------------------------------------------------------------------------+-------------+----------+------------+-----------+\n",
      "| Vitamin A                                                                                           | 0.0         | 0.0      |       0    |         1 |\n",
      "+-----------------------------------------------------------------------------------------------------+-------------+----------+------------+-----------+\n",
      "| Vitamin A palmitate                                                                                 | 0.0         | 0.0      |       0    |         2 |\n",
      "+-----------------------------------------------------------------------------------------------------+-------------+----------+------------+-----------+\n",
      "| accuracy                                                                                            |             |          |       0.78 |       499 |\n",
      "+-----------------------------------------------------------------------------------------------------+-------------+----------+------------+-----------+\n",
      "| macro avg                                                                                           | 0.13        | 0.21     |       0.13 |       499 |\n",
      "+-----------------------------------------------------------------------------------------------------+-------------+----------+------------+-----------+\n",
      "| weighted avg                                                                                        | 0.95        | 0.78     |       0.86 |       499 |\n",
      "+-----------------------------------------------------------------------------------------------------+-------------+----------+------------+-----------+\n"
     ]
    }
   ],
   "source": [
    "#printing the classification report (bonus)\n",
    "print(\"================================================\")\n",
    "print(\"Naive Bayes Report\")\n",
    "print(\"================================================\")\n",
    "print(myevaluation.classification_report(y_tests, y_pred_naive, False))\n",
    "print(\"================================================\")\n",
    "print(\"kNN Report\")\n",
    "print(\"================================================\")\n",
    "print(myevaluation.classification_report(y_tests, y_pred_knn, False))"
   ]
  },
  {
   "cell_type": "markdown",
   "metadata": {},
   "source": [
    "# Data Visualization"
   ]
  },
  {
   "cell_type": "code",
   "execution_count": 75,
   "metadata": {},
   "outputs": [
    {
     "name": "stdout",
     "output_type": "stream",
     "text": [
      "493\n"
     ]
    },
    {
     "data": {
      "image/png": "[encoded data removed]",
      "text/plain": [
       "<Figure size 640x480 with 1 Axes>"
      ]
     },
     "metadata": {},
     "output_type": "display_data"
    }
   ],
   "source": [
    "for i, label in enumerate(y):\n",
    "    if label == \"Retinol/retinyl esters, when in daily dosages in excess of 10,000 IU, or 3,000 retinol equivalents.\":\n",
    "        y[i] = \"Retinol/retinyl esters\"\n",
    "values, counts = myutils.get_frequency(y)\n",
    "for i, val in enumerate(values):\n",
    "    if counts[i] < 2:\n",
    "        for inst in y:\n",
    "            if inst == val:\n",
    "                y.remove(inst)\n",
    "print(len(y))\n",
    "myutils.histogram(y, \"Chemical\", \"Frequency\", \"Distribution of Chemicals\", xticks=y)"
   ]
  }
 ],
 "metadata": {
  "kernelspec": {
   "display_name": "base",
   "language": "python",
   "name": "python3"
  },
  "language_info": {
   "codemirror_mode": {
    "name": "ipython",
    "version": 3
   },
   "file_extension": ".py",
   "mimetype": "text/x-python",
   "name": "python",
   "nbconvert_exporter": "python",
   "pygments_lexer": "ipython3",
   "version": "3.12.4"
  }
 },
 "nbformat": 4,
 "nbformat_minor": 2
}
