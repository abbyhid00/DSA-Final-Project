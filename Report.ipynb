{
 "cells": [
  {
   "cell_type": "markdown",
   "metadata": {},
   "source": [
    "# Chemicals in Cosmetics\n",
    "# By Abby Hidalgo and Zobe Murray\n",
    "# Course: CPSC 322, Fall 2024"
   ]
  },
  {
   "cell_type": "code",
   "execution_count": 20,
   "metadata": {},
   "outputs": [],
   "source": [
    "import importlib\n",
    "\n",
    "import mysklearn.myevaluation\n",
    "importlib.reload(mysklearn.myevaluation)\n",
    "import mysklearn.myevaluation as myevaluation\n",
    "\n",
    "import mysklearn.myutils\n",
    "importlib.reload(mysklearn.myutils)\n",
    "import mysklearn.myutils as myutils\n",
    "\n",
    "import mysklearn.mypytable\n",
    "importlib.reload(mysklearn.mypytable)\n",
    "from mysklearn.mypytable import MyPyTable \n",
    "\n",
    "import mysklearn.myclassifiers\n",
    "importlib.reload(mysklearn.myclassifiers)\n",
    "from mysklearn.myclassifiers import MyKNeighborsClassifier, MyNaiveBayesClassifier, MyRandomForestClassifier\n",
    "\n",
    "#import analysis_code.plot_utils\n",
    "#importlib.reload(analysis_code.plot_utils)\n",
    "import flask_app.naive_picker\n",
    "importlib.reload(flask_app.naive_picker)\n",
    "\n",
    "import flask_app.cosmetic_app\n",
    "importlib.reload(flask_app.cosmetic_app)\n",
    "\n",
    "import tabulate\n",
    "from tabulate import tabulate\n",
    "import numpy as np"
   ]
  },
  {
   "cell_type": "markdown",
   "metadata": {},
   "source": [
    "## Introduction:"
   ]
  },
  {
   "cell_type": "markdown",
   "metadata": {},
   "source": [
    "In this project, the dataset examined is the chemicals in cosmetics set provided by data.gov which reflects the hazardous chemicals that have been reported to the California Safe Cosmetics Program. The number of instances in this dataset is 114,637 instances making it substanitally larger than any other dataset we have worked with previously with 22 different attributes. The attribute types are mainly strings with some numerical attributes inclueded. The attribute being used for the class labeling is chemical names. After many preprocessing steps and modifications were made to scale the dataset to a more approachable size, the best classifier ended up being the Naive Bayes classifier which with more time and experimentation we believe could have been improved further."
   ]
  },
  {
   "cell_type": "markdown",
   "metadata": {},
   "source": [
    "### Experiments with Joining Datasets"
   ]
  },
  {
   "cell_type": "code",
   "execution_count": 21,
   "metadata": {},
   "outputs": [
    {
     "name": "stdout",
     "output_type": "stream",
     "text": [
      "number of rows  13\n",
      "number of cols  32\n"
     ]
    }
   ],
   "source": [
    "raw_data = MyPyTable()\n",
    "raw_data2 = MyPyTable()\n",
    "X = []\n",
    "Y = []\n",
    "raw_data = raw_data.load_from_file(\"california_cosmetics.csv\")\n",
    "raw_data2 = raw_data2.load_from_file(\"cosmetics_kaggle.csv\")\n",
    "data_joined = raw_data.perform_inner_join(raw_data2, [\"BrandName\"])\n",
    "duplicates = data_joined.find_duplicates([\"BrandName\"])\n",
    "data_joined.drop_rows(duplicates)\n",
    "data_joined.save_to_file(\"cosmetics_clean.csv\")\n",
    "row, col = data_joined.get_shape()\n",
    "print(\"number of rows \", row)\n",
    "print(\"number of cols \", col)"
   ]
  },
  {
   "cell_type": "markdown",
   "metadata": {},
   "source": [
    "Orignallt, we had planned to make a comparison between the california cosmetics dataset and the cosmetics kaggle dataset, but based on the lack of overlaping data, we decided to move away from using the cosmetics kaggle data set and instead are splitting the data set in order to test our classifiers. The size of our dataset is sufficient due to it being more than 100,000 entries that need to be sorted through."
   ]
  },
  {
   "cell_type": "markdown",
   "metadata": {},
   "source": [
    "## Data Analysis:"
   ]
  },
  {
   "cell_type": "markdown",
   "metadata": {},
   "source": [
    "The dataset contains 114635 instances and 22 different attributes in its original form. Some of these attributes are the date a hazardous chemical was reported to be in a a production while others are the name of the company that produced a product with said chemical. For the purpose of our analysis, all of our attributes used were strings. The attribute used as the label is the chemical name. The most important data visualization that we included was the frequency diagram in which we show the distribution of our newly smoothed dataset."
   ]
  },
  {
   "cell_type": "markdown",
   "metadata": {},
   "source": [
    "### Cleaning Data"
   ]
  },
  {
   "cell_type": "code",
   "execution_count": 22,
   "metadata": {},
   "outputs": [
    {
     "name": "stdout",
     "output_type": "stream",
     "text": [
      "number of rows  114635\n",
      "number of cols  6\n"
     ]
    }
   ],
   "source": [
    "subset = MyPyTable().load_from_file(\"california_cosmetics_removed_columns.csv\")\n",
    "row, col = subset.get_shape()\n",
    "print(\"number of rows \", row)\n",
    "print(\"number of cols \", col)"
   ]
  },
  {
   "cell_type": "markdown",
   "metadata": {},
   "source": [
    "For this we needed to pull a subset of data from the california cosmetics data set since the processing time of the whole set took too long for the project to be efficient. In the removed columns spreadsheet we reduced the number of attributes to 6, but kept the 114,635 instances. The narrowing down of the data helped us run it in a more efficient time."
   ]
  },
  {
   "cell_type": "code",
   "execution_count": 23,
   "metadata": {},
   "outputs": [
    {
     "name": "stdout",
     "output_type": "stream",
     "text": [
      "number of rows  114595\n",
      "number of cols  6\n"
     ]
    }
   ],
   "source": [
    "subset = subset.remove_rows_with_missing_values()\n",
    "row, col = subset.get_shape()\n",
    "print(\"number of rows \", row)\n",
    "print(\"number of cols \", col)"
   ]
  },
  {
   "cell_type": "markdown",
   "metadata": {},
   "source": [
    "This code block removes rows with missing values in any of these attribute fields. This slightly trims the data set. "
   ]
  },
  {
   "cell_type": "markdown",
   "metadata": {},
   "source": [
    "### Examining Initial Frequency of Chemical Types"
   ]
  },
  {
   "cell_type": "code",
   "execution_count": 24,
   "metadata": {},
   "outputs": [],
   "source": [
    "y = subset.get_column(\"ChemicalName\")"
   ]
  },
  {
   "cell_type": "code",
   "execution_count": 25,
   "metadata": {},
   "outputs": [
    {
     "name": "stdout",
     "output_type": "stream",
     "text": [
      "['1,4-Dioxane', '2,2-Bis(bromomethyl)-1,3-propanediol', '2,4-Hexadienal (89% trans, trans isomer; 11% cis, trans isomer)', '2-Propyleneacrolein', 'Acetaldehyde', 'Acetic acid, retinyl ester', 'Acetylsalicylic acid', 'Acrylamide', 'All-trans retinoic acid', 'Aloe vera, non-decolorized whole leaf extract', 'Aloe vera, whole leaf extract', 'Arsenic (inorganic arsenic compounds)', 'Arsenic (inorganic oxides)', 'Aspirin', 'Avobenzone', 'Benz[a]anthracene', 'Benzene', 'Benzo[a]pyrene', 'Benzophenone', 'Benzophenone-2', 'Benzophenone-3', 'Benzophenone-4', 'Benzyl chloride', 'Bisphenol A (BPA)', 'Butylated hydroxyanisole', 'C.I. Acid Red 114', 'Cadmium and cadmium compounds', 'Caffeic acid', 'Caffeine', 'Carbon black', 'Carbon black (airborne, unbound particles of respirable size)', 'Carbon-black extracts', 'Chromium (hexavalent compounds)', 'Coal Tar', 'Coal tar extract', 'Coal tar solution', 'Coal tars', 'Cocamide', 'Cocamide DEA', 'Cocamide MEA', 'Cocamide diethanolamine', 'Cocamide diethanolamine (DEA)', 'Coffea arabica extract', 'Coffee', 'Coffee bean extract', 'Coffee extract', 'Cosmetic talc', 'Di-n-butyl phthalate (DBP)', 'Dichloroacetic acid', 'Dichloromethane (Methylene chloride)', 'Diethanolamides of the fatty acids of coconut oil', 'Diethanolamine', 'Distillates (coal tar)', 'Estragole', 'Ethanol in alcoholic beverages', 'Ethyl acrylate', 'Ethylene glycol', 'Ethylene oxide', 'Extract of coffee bean', 'Formaldehyde', 'Formaldehyde (gas)', 'Formaldehyde solution', 'Genistein (purified)', 'Ginkgo biloba extract', 'Goldenseal root powder', 'Hydrous magnesium silicate', 'Isopropyl alcohol manufacture using strong acids', 'Lauramide DEA', 'Lauramide diethanolamine', 'Lead', 'Lead acetate', 'Mercury and mercury compounds', 'Methanol', 'Methyl chloride', 'Methylene glycol', 'Methyleugenol', 'Mica', 'Mineral oils, untreated and mildly treated', 'Musk xylene', 'N,N-Dimethyl-p-toluidine', 'N-Methylpyrrolidone', 'N-Nitrosodiethanolamine', 'N-Nitrosodimethylamine', 'Nickel (Metallic)', 'Oil Orange SS', 'Permethrin', 'Phenacemide', 'Phenacetin', 'Polygeenan', 'Progesterone', 'Propylene glycol mono-t-butyl ether', 'Propylene oxide', 'Pulegone', 'Quartz', 'Quinoline and its strong acid salts', 'Retinol', 'Retinol palmitate', 'Retinol/retinyl esters, when in daily dosages in excess of 10,000 IU, or 3,000 retinol equivalents.', 'Retinyl acetate', 'Retinyl palmitate', 'Safrole', 'Selenium sulfide', 'Silica, crystalline (airborne particles of respirable size)', 'Sodium Bromate', 'Spironolactone', 'Styrene', 'TEA-Lauryl Sulfate', 'Talc', 'Talc (powder)', 'Talc containing asbestiform fibers', 'Titanium dioxide', 'Titanium dioxide (airborne, unbound particles of respirable size)', 'Toluene', 'Trade Secret', 'Trichloroacetic acid', 'Triethanolamine', 'Vinyl acetate', 'Vitamin A', 'Vitamin A palmitate', 'beta-Myrcene', 'o-Phenylenediamine and its salts', 'o-Phenylphenol', 'p-Aminodiphenylamine']\n",
      "[71, 4, 9, 1, 56, 3, 1, 4, 8, 4, 143, 9, 1, 8, 13, 2, 5, 2, 231, 3, 41, 5, 5, 4, 1888, 10, 2, 6, 49, 1758, 440, 8, 3, 17, 6, 3, 39, 1, 234, 116, 1362, 1, 80, 80, 6, 13, 189, 17, 10, 8, 1, 35, 1, 156, 48, 5, 16, 40, 1, 2, 142, 5, 8, 188, 2, 2, 75, 35, 3, 9, 7, 4, 6, 7, 8, 154, 1918, 518, 4, 15, 20, 1, 5, 2, 16, 2, 1, 33, 5, 38, 10, 7, 7, 42, 9, 270, 1, 2152, 8, 1181, 38, 17, 2817, 1, 1, 53, 2, 1548, 9, 8, 93480, 84, 103, 668, 3, 454, 1, 31, 971, 83, 9, 8, 2]\n",
      "['Butylated hydroxyanisole', 'Carbon black', 'Cocamide diethanolamine', 'Mica', 'Retinol/retinyl esters, when in daily dosages in excess of 10,000 IU, or 3,000 retinol equivalents.', 'Retinyl palmitate', 'Silica, crystalline (airborne particles of respirable size)', 'Talc', 'Titanium dioxide']\n"
     ]
    }
   ],
   "source": [
    "unique_vals, counts = myutils.get_frequency(y)\n",
    "print(unique_vals)\n",
    "print(counts)\n",
    "drugs = []\n",
    "for i, val in enumerate(unique_vals):\n",
    "    if counts[i] > 1000:\n",
    "        drugs.append(val)\n",
    "\n",
    "print(drugs)\n",
    "index = subset.column_names.index(\"ChemicalName\")\n",
    "subset2 = MyPyTable()\n",
    "subset2.column_names = subset.column_names\n",
    "for inst in subset.data:\n",
    "    for drug in drugs:\n",
    "        if inst[index] == drug:\n",
    "            subset2.data.append(inst)\n",
    "y2 = subset2.get_column(\"ChemicalName\")\n",
    "chemical_indices = myutils.group_by(y2)"
   ]
  },
  {
   "cell_type": "markdown",
   "metadata": {},
   "source": [
    "These code blocks examine the general distribution of the different chemicals and their frequencies in the dataset. This then allowed us to smooth the dataset so it was not so skewed. "
   ]
  },
  {
   "cell_type": "code",
   "execution_count": 26,
   "metadata": {},
   "outputs": [
    {
     "name": "stdout",
     "output_type": "stream",
     "text": [
      "1888\n",
      "1758\n",
      "1362\n",
      "1918\n",
      "2000\n",
      "1181\n",
      "2000\n",
      "1548\n",
      "2000\n"
     ]
    }
   ],
   "source": [
    "np.random.seed(0)\n",
    "chosen_indices = []\n",
    "for chemical in chemical_indices:\n",
    "    if len(chemical) < 2000:\n",
    "        chosen_indices.append(chemical)\n",
    "    else:\n",
    "        indices = np.random.choice(chemical, 2000, False)\n",
    "        chosen_indices.append(indices)\n",
    "for chemical in chosen_indices:\n",
    "    print(len(chemical))"
   ]
  },
  {
   "cell_type": "markdown",
   "metadata": {},
   "source": [
    "In this code block we pick the 9 chemical names with the most frequent occurences in the data set and cap the number of instances for each label to 2000 instances."
   ]
  },
  {
   "cell_type": "code",
   "execution_count": 27,
   "metadata": {},
   "outputs": [],
   "source": [
    "final_subset = MyPyTable()\n",
    "final_subset.column_names = subset.column_names\n",
    "for chemical in chosen_indices:\n",
    "    for inst in chemical:\n",
    "        final_subset.data.append(subset2.data[inst])\n",
    "final_subset.save_to_file(\"final_subset.csv\")\n",
    "final_y = final_subset.get_column(\"ChemicalName\")\n",
    "for i, chem in enumerate(final_y):\n",
    "    if chem == \"Retinol/retinyl esters, when in daily dosages in excess of 10,000 IU, or 3,000 retinol equivalents.\":\n",
    "        final_y[i] = \"Retinol/retinyl esters\"\n",
    "    elif chem == \"Silica, crystalline (airborne particles of respirable size)\":\n",
    "        final_y[i] = \"Silica\""
   ]
  },
  {
   "cell_type": "code",
   "execution_count": 28,
   "metadata": {},
   "outputs": [
    {
     "data": {
      "image/png": "[encoded data removed]",
      "text/plain": [
       "<Figure size 640x480 with 1 Axes>"
      ]
     },
     "metadata": {},
     "output_type": "display_data"
    }
   ],
   "source": [
    "myutils.histogram(final_y, \"Chemical\", \"Frequency\", \"Distribution of Chemicals\", xticks=final_y)"
   ]
  },
  {
   "cell_type": "markdown",
   "metadata": {},
   "source": [
    "This figure shows a frequency diagram which represents the general distribution of chemical names with Titanium Dioxide, Silica, and Retinol/retinyl esters having the highest frequency of 2000 in the data set. This step allowed us to make sure the data we processed was not too heavily skewed before feeding it to the different classifiers."
   ]
  },
  {
   "cell_type": "markdown",
   "metadata": {},
   "source": [
    "### Training classifiers"
   ]
  },
  {
   "cell_type": "markdown",
   "metadata": {},
   "source": [
    "We chose to narrow down the attributes to predict on to Company Name, Brand Name, Primary Category and Sub Category in order to improve the predictive accuracy of our classifiers, as well as streamline the time it takes for a classifier to make predicts. If we had decided to go with the full data set then more computing power would be needed to even run the program in an efficient amount of time."
   ]
  },
  {
   "cell_type": "code",
   "execution_count": 29,
   "metadata": {},
   "outputs": [],
   "source": [
    "final_X = final_subset.get_col_for_pred([\"CompanyName\", \"BrandName\", \"PrimaryCategory\", \"SubCategory\"])"
   ]
  },
  {
   "cell_type": "code",
   "execution_count": 30,
   "metadata": {},
   "outputs": [],
   "source": [
    "#initializing classifiers\n",
    "naive_class = MyNaiveBayesClassifier()\n",
    "knn_class = MyKNeighborsClassifier()\n",
    "#splitting data\n",
    "split = myevaluation.stratified_kfold_split(final_X, final_y, 10, 0)\n",
    "y_tests = []\n",
    "y_pred_naive = []\n",
    "#training the data and then predicting on test sets\n",
    "for fold in split:\n",
    "    X_train, X_test, y_train, y_test = myutils.get_train_test(final_X, final_y, fold)\n",
    "    naive_class.fit(X_train, y_train)\n",
    "    y_pred_naive.extend(naive_class.predict(X_test))\n",
    "    y_tests.extend(y_test)"
   ]
  },
  {
   "cell_type": "markdown",
   "metadata": {},
   "source": [
    "This code block uses stratified 10 fold split and feeds these splots to the naive bayes classifier as well as the knn classifier."
   ]
  },
  {
   "cell_type": "markdown",
   "metadata": {},
   "source": [
    "## Classification Results:"
   ]
  },
  {
   "cell_type": "markdown",
   "metadata": {},
   "source": [
    "For the classification process we used a stratified 10 fold split that gave training and testing data to both the naive bayes classifier and the knn classifier. Ths classifiication only took place after smooting the original data set to get rid of the skew. We found that classification worked best for this still large 15,655 instance new dataset. We performed predictions on the four most relevant attributes that had no empty rows which were company name, brand name, primary category and subcategory. Primary and subcategory in this context could refer to Skin care products and Cleansers respectively. Since all of the data that was passed into the classifiers were categorical attributes no discretization or normalization was needed for this data set. We evlauated our classifiers on accuracy, error rate, precision, f1 score and recognition rates. The classifiers did not perform as well as we had hoped, however with a large variance in categorical attributes and the overall size of the datset we used it does make sense that there is such a variance. The classifier we deemed to be the \"best\" was the Naive Bayes classifier which was is discussed more below."
   ]
  },
  {
   "cell_type": "code",
   "execution_count": 31,
   "metadata": {},
   "outputs": [
    {
     "name": "stdout",
     "output_type": "stream",
     "text": [
      "================================================\n",
      "Naive Bayes Metrics\n",
      "================================================\n",
      "Accuracy: 0.61\n",
      "Error Rate: 0.39\n",
      "Precision: 0.86\n",
      "Recall: 0.69\n",
      "F1 Score: 0.77\n",
      "Confusion Matrix:\n",
      "                            Butylated hydroxyanisole    Carbon black    Cocamide diethanolamine    Mica    Retinol/retinyl esters    Retinyl palmitate    Silica    Talc    Titanium dioxide    Total  Recognition (%)\n",
      "------------------------  --------------------------  --------------  -------------------------  ------  ------------------------  -------------------  --------  ------  ------------------  -------  -----------------\n",
      "Butylated hydroxyanisole                        1311              12                         18      37                       140                   64        40      48                 218     1888  69.44%\n",
      "Carbon black                                       4             650                          0     142                        82                   17       250      34                 579     1758  36.97%\n",
      "Cocamide diethanolamine                           34               0                        558       0                       172                    6       179       0                 413     1362  40.97%\n",
      "Mica                                              21              49                          0    1105                        12                  114       320     213                  84     1918  57.61%\n",
      "Retinol/retinyl esters                            21               0                         11       0                      1795                   57        23      49                  44     2000  89.75%\n",
      "Retinyl palmitate                                 11               0                          4     141                       267                  410       105      73                 170     1181  34.72%\n",
      "Silica                                             0               1                          2     129                        47                   46      1738      14                  23     2000  86.90%\n",
      "Talc                                               2              55                          1     415                        20                  119        18     768                 150     1548  49.61%\n",
      "Titanium dioxide                                 117              97                         19     106                       195                   62       146      63                1195     2000  59.75%\n"
     ]
    }
   ],
   "source": [
    "#printing the metrics\n",
    "print(\"================================================\")\n",
    "print(\"Naive Bayes Metrics\")\n",
    "print(\"================================================\")\n",
    "myutils.print_metrics(y_pred_naive, y_tests)"
   ]
  },
  {
   "cell_type": "markdown",
   "metadata": {},
   "source": [
    "While the accuracy of this classifier is a bit discouraging we do need to keep in mind that if we had scaled down the data set even more the classifier could increase in accuracy. With the abundance of categorical options for the classifier to choose between it does make sense that the accuracy could be low, however, recognition rates such as the ones for Retinols and Silica show promising results of classification as well as the high precision score that was given."
   ]
  },
  {
   "cell_type": "markdown",
   "metadata": {},
   "source": []
  },
  {
   "cell_type": "code",
   "execution_count": 32,
   "metadata": {},
   "outputs": [],
   "source": [
    "knn_class = MyKNeighborsClassifier()\n",
    "#splitting data\n",
    "split = myevaluation.stratified_kfold_split(final_X, final_y, 10, 0)\n",
    "y_tests = []\n",
    "y_pred_knn = []\n",
    "#training the data and then predicting on test sets\n",
    "for fold in split:\n",
    "    X_train, X_test, y_train, y_test = myutils.get_train_test(final_X, final_y, fold)\n",
    "    knn_class.fit(X_train, y_train)\n",
    "    y_pred_knn.extend(knn_class.predict(X_test))\n",
    "    y_tests.extend(y_test)"
   ]
  },
  {
   "cell_type": "code",
   "execution_count": 33,
   "metadata": {},
   "outputs": [
    {
     "name": "stdout",
     "output_type": "stream",
     "text": [
      "================================================\n",
      "kNN Metrics\n",
      "================================================\n",
      "Accuracy: 0.46\n",
      "Error Rate: 0.54\n",
      "Precision: 0.23\n",
      "Recall: 0.63\n",
      "F1 Score: 0.34\n",
      "Confusion Matrix:\n",
      "                            Butylated hydroxyanisole    Carbon black    Cocamide diethanolamine    Mica    Retinol/retinyl esters    Retinyl palmitate    Silica    Talc    Titanium dioxide    Total  Recognition (%)\n",
      "------------------------  --------------------------  --------------  -------------------------  ------  ------------------------  -------------------  --------  ------  ------------------  -------  -----------------\n",
      "Butylated hydroxyanisole                        1191              77                          0       0                        83                    3        29      20                 485     1888  63.08%\n",
      "Carbon black                                     569             555                          0      10                         0                    3       121      58                 442     1758  31.57%\n",
      "Cocamide diethanolamine                          922               0                        430       0                         3                    0         0       0                   7     1362  31.57%\n",
      "Mica                                             361             116                          0     448                         0                   11       248     297                 437     1918  23.36%\n",
      "Retinol/retinyl esters                           351               1                          7       0                      1594                   12         8       6                  21     2000  79.70%\n",
      "Retinyl palmitate                                505              52                          0      38                       119                  183        62      45                 177     1181  15.50%\n",
      "Silica                                           153              22                          0      40                        30                   22      1716       3                  14     2000  85.80%\n",
      "Talc                                             323              63                          0     127                        99                    0        60     376                 500     1548  24.29%\n",
      "Titanium dioxide                                 871              87                         11      45                       111                   24        94      32                 725     2000  36.25%\n"
     ]
    }
   ],
   "source": [
    "print(\"================================================\")\n",
    "print(\"kNN Metrics\")\n",
    "print(\"================================================\")\n",
    "myutils.print_metrics(y_pred_knn, y_tests)"
   ]
  },
  {
   "cell_type": "markdown",
   "metadata": {},
   "source": [
    "In comparison, the Naive Bayes classifier performed bounds better than the knn classifier. Judging by the accuracy alone Naive Bayes boasts an accuracy of 68% in comparison to the knn accuracy of 46%. Additionally, the recognition rates even fell with that of the Retinols now being 79.70% instead of the 89.755% that it was for Naive Bayes."
   ]
  },
  {
   "cell_type": "code",
   "execution_count": 34,
   "metadata": {},
   "outputs": [
    {
     "ename": "TypeError",
     "evalue": "'NoneType' object is not iterable",
     "output_type": "error",
     "traceback": [
      "\u001b[1;31m---------------------------------------------------------------------------\u001b[0m",
      "\u001b[1;31mTypeError\u001b[0m                                 Traceback (most recent call last)",
      "Cell \u001b[1;32mIn[34], line 8\u001b[0m\n\u001b[0;32m      6\u001b[0m X_train, X_test, y_train, y_test \u001b[38;5;241m=\u001b[39m myutils\u001b[38;5;241m.\u001b[39mget_train_test(final_X, final_y, split[\u001b[38;5;241m0\u001b[39m])\n\u001b[0;32m      7\u001b[0m tree_class\u001b[38;5;241m.\u001b[39mfit(X_train, y_train, \u001b[38;5;241m20\u001b[39m, \u001b[38;5;241m2\u001b[39m, \u001b[38;5;241m7\u001b[39m)\n\u001b[1;32m----> 8\u001b[0m y_pred_tree \u001b[38;5;241m=\u001b[39m tree_class\u001b[38;5;241m.\u001b[39mpredict(X_test)\n",
      "File \u001b[1;32mc:\\Users\\abbyh\\Desktop\\CPSC322\\DSA-Final-Project\\mysklearn\\myclassifiers.py:76\u001b[0m, in \u001b[0;36mMyRandomForestClassifier.predict\u001b[1;34m(self, X_test)\u001b[0m\n\u001b[0;32m     74\u001b[0m     tree_class\u001b[38;5;241m.\u001b[39mtree \u001b[38;5;241m=\u001b[39m tree\n\u001b[0;32m     75\u001b[0m     tree_class\u001b[38;5;241m.\u001b[39mheader \u001b[38;5;241m=\u001b[39m \u001b[38;5;28mself\u001b[39m\u001b[38;5;241m.\u001b[39mheaders[i]\n\u001b[1;32m---> 76\u001b[0m     y_pred \u001b[38;5;241m=\u001b[39m tree_class\u001b[38;5;241m.\u001b[39mpredict(X_test)\n\u001b[0;32m     77\u001b[0m     predictions\u001b[38;5;241m.\u001b[39mappend(y_pred)\n\u001b[0;32m     78\u001b[0m \u001b[38;5;28;01mfor\u001b[39;00m i \u001b[38;5;129;01min\u001b[39;00m \u001b[38;5;28mrange\u001b[39m(\u001b[38;5;28mlen\u001b[39m(X_test)):\n",
      "File \u001b[1;32mc:\\Users\\abbyh\\Desktop\\CPSC322\\DSA-Final-Project\\mysklearn\\myclassifiers.py:165\u001b[0m, in \u001b[0;36mMyDecisionTreeClassifier.predict\u001b[1;34m(self, X_test)\u001b[0m\n\u001b[0;32m    162\u001b[0m predictions \u001b[38;5;241m=\u001b[39m []\n\u001b[0;32m    163\u001b[0m \u001b[38;5;28;01mfor\u001b[39;00m inst \u001b[38;5;129;01min\u001b[39;00m X_test:\n\u001b[0;32m    164\u001b[0m     \u001b[38;5;66;03m#calling recursive prediction function\u001b[39;00m\n\u001b[1;32m--> 165\u001b[0m     pred \u001b[38;5;241m=\u001b[39m \u001b[38;5;28mself\u001b[39m\u001b[38;5;241m.\u001b[39mtdidt_predict(inst)\n\u001b[0;32m    166\u001b[0m     predictions\u001b[38;5;241m.\u001b[39mappend(pred)\n\u001b[0;32m    167\u001b[0m \u001b[38;5;28;01mreturn\u001b[39;00m predictions\n",
      "File \u001b[1;32mc:\\Users\\abbyh\\Desktop\\CPSC322\\DSA-Final-Project\\mysklearn\\myclassifiers.py:368\u001b[0m, in \u001b[0;36mMyDecisionTreeClassifier.tdidt_predict\u001b[1;34m(self, instance, trees)\u001b[0m\n\u001b[0;32m    366\u001b[0m     \u001b[38;5;28;01mif\u001b[39;00m value_list[\u001b[38;5;241m1\u001b[39m] \u001b[38;5;241m==\u001b[39m instance[att_index]:\n\u001b[0;32m    367\u001b[0m         \u001b[38;5;28;01mreturn\u001b[39;00m \u001b[38;5;28mself\u001b[39m\u001b[38;5;241m.\u001b[39mtdidt_predict(instance, value_list[\u001b[38;5;241m2\u001b[39m])\n\u001b[1;32m--> 368\u001b[0m \u001b[38;5;28;01mreturn\u001b[39;00m \u001b[38;5;28mself\u001b[39m\u001b[38;5;241m.\u001b[39mget_majority_class(\u001b[38;5;28mself\u001b[39m\u001b[38;5;241m.\u001b[39mX_train)\n",
      "File \u001b[1;32mc:\\Users\\abbyh\\Desktop\\CPSC322\\DSA-Final-Project\\mysklearn\\myclassifiers.py:308\u001b[0m, in \u001b[0;36mMyDecisionTreeClassifier.get_majority_class\u001b[1;34m(self, instances)\u001b[0m\n\u001b[0;32m    306\u001b[0m class_counts \u001b[38;5;241m=\u001b[39m {}\n\u001b[0;32m    307\u001b[0m \u001b[38;5;66;03m#getting how many times each class is present in instances\u001b[39;00m\n\u001b[1;32m--> 308\u001b[0m \u001b[38;5;28;01mfor\u001b[39;00m inst \u001b[38;5;129;01min\u001b[39;00m instances:\n\u001b[0;32m    309\u001b[0m     inst_class \u001b[38;5;241m=\u001b[39m inst[\u001b[38;5;241m-\u001b[39m\u001b[38;5;241m1\u001b[39m]\n\u001b[0;32m    310\u001b[0m     class_counts[inst_class] \u001b[38;5;241m=\u001b[39m class_counts\u001b[38;5;241m.\u001b[39mget(inst_class, \u001b[38;5;241m0\u001b[39m) \u001b[38;5;241m+\u001b[39m \u001b[38;5;241m1\u001b[39m\n",
      "\u001b[1;31mTypeError\u001b[0m: 'NoneType' object is not iterable"
     ]
    }
   ],
   "source": [
    "tree_class = MyRandomForestClassifier()\n",
    "#splitting data\n",
    "split = myevaluation.stratified_kfold_split(final_X, final_y, 3, 0)\n",
    "y_pred_tree = []\n",
    "#training the data and then predicting on test sets\n",
    "X_train, X_test, y_train, y_test = myutils.get_train_test(final_X, final_y, split[0])\n",
    "tree_class.fit(X_train, y_train, 20, 2, 7)\n",
    "y_pred_tree = tree_class.predict(X_test)"
   ]
  },
  {
   "cell_type": "code",
   "execution_count": null,
   "metadata": {},
   "outputs": [
    {
     "name": "stdout",
     "output_type": "stream",
     "text": [
      "================================================\n",
      "Naive Bayes Report\n",
      "================================================\n",
      "+-----------------------------------------------------------------------------------------------------+-------------+----------+------------+-----------+\n",
      "|                                                                                                     | precision   | recall   |   f1-score |   support |\n",
      "+=====================================================================================================+=============+==========+============+===========+\n",
      "| Butylated hydroxyanisole                                                                            | 0.0         | 0.0      |       0    |         2 |\n",
      "+-----------------------------------------------------------------------------------------------------+-------------+----------+------------+-----------+\n",
      "| Chromium (hexavalent compounds)                                                                     | 0.0         | 0.0      |       0    |         1 |\n",
      "+-----------------------------------------------------------------------------------------------------+-------------+----------+------------+-----------+\n",
      "| Cocamide diethanolamine                                                                             | 0.0         | 0.0      |       0    |         4 |\n",
      "+-----------------------------------------------------------------------------------------------------+-------------+----------+------------+-----------+\n",
      "| Coffea arabica extract                                                                              | 0.0         | 0.0      |       0    |         1 |\n",
      "+-----------------------------------------------------------------------------------------------------+-------------+----------+------------+-----------+\n",
      "| Distillates (coal tar)                                                                              | 0.0         | 0.0      |       0    |         1 |\n",
      "+-----------------------------------------------------------------------------------------------------+-------------+----------+------------+-----------+\n",
      "| Estragole                                                                                           | 0.0         | 0.0      |       0    |         1 |\n",
      "+-----------------------------------------------------------------------------------------------------+-------------+----------+------------+-----------+\n",
      "| Retinol                                                                                             | 0.0         | 0.0      |       0    |         5 |\n",
      "+-----------------------------------------------------------------------------------------------------+-------------+----------+------------+-----------+\n",
      "| Retinol/retinyl esters, when in daily dosages in excess of 10,000 IU, or 3,000 retinol equivalents. | 0.57        | 0.8      |       0.67 |        15 |\n",
      "+-----------------------------------------------------------------------------------------------------+-------------+----------+------------+-----------+\n",
      "| Titanium dioxide                                                                                    | 0.98        | 0.98     |       0.98 |       465 |\n",
      "+-----------------------------------------------------------------------------------------------------+-------------+----------+------------+-----------+\n",
      "| Toluene                                                                                             | 0.0         | 0.0      |       0    |         1 |\n",
      "+-----------------------------------------------------------------------------------------------------+-------------+----------+------------+-----------+\n",
      "| Vitamin A                                                                                           | 0.0         | 0.0      |       0    |         1 |\n",
      "+-----------------------------------------------------------------------------------------------------+-------------+----------+------------+-----------+\n",
      "| Vitamin A palmitate                                                                                 | 0.0         | 0.0      |       0    |         2 |\n",
      "+-----------------------------------------------------------------------------------------------------+-------------+----------+------------+-----------+\n",
      "| accuracy                                                                                            |             |          |       0.94 |       499 |\n",
      "+-----------------------------------------------------------------------------------------------------+-------------+----------+------------+-----------+\n",
      "| macro avg                                                                                           | 0.13        | 0.15     |       0.14 |       499 |\n",
      "+-----------------------------------------------------------------------------------------------------+-------------+----------+------------+-----------+\n",
      "| weighted avg                                                                                        | 0.93        | 0.94     |       0.93 |       499 |\n",
      "+-----------------------------------------------------------------------------------------------------+-------------+----------+------------+-----------+\n",
      "================================================\n",
      "kNN Report\n",
      "================================================\n",
      "+-----------------------------------------------------------------------------------------------------+-------------+----------+------------+-----------+\n",
      "|                                                                                                     | precision   | recall   |   f1-score |   support |\n",
      "+=====================================================================================================+=============+==========+============+===========+\n",
      "| Butylated hydroxyanisole                                                                            | 0.02        | 1.0      |       0.04 |         2 |\n",
      "+-----------------------------------------------------------------------------------------------------+-------------+----------+------------+-----------+\n",
      "| Chromium (hexavalent compounds)                                                                     | 0.0         | 0.0      |       0    |         1 |\n",
      "+-----------------------------------------------------------------------------------------------------+-------------+----------+------------+-----------+\n",
      "| Cocamide diethanolamine                                                                             | 0.0         | 0.0      |       0    |         4 |\n",
      "+-----------------------------------------------------------------------------------------------------+-------------+----------+------------+-----------+\n",
      "| Coffea arabica extract                                                                              | 0.0         | 0.0      |       0    |         1 |\n",
      "+-----------------------------------------------------------------------------------------------------+-------------+----------+------------+-----------+\n",
      "| Distillates (coal tar)                                                                              | 0.0         | 0.0      |       0    |         1 |\n",
      "+-----------------------------------------------------------------------------------------------------+-------------+----------+------------+-----------+\n",
      "| Estragole                                                                                           | 0.0         | 0.0      |       0    |         1 |\n",
      "+-----------------------------------------------------------------------------------------------------+-------------+----------+------------+-----------+\n",
      "| Retinol                                                                                             | 0.0         | 0.0      |       0    |         5 |\n",
      "+-----------------------------------------------------------------------------------------------------+-------------+----------+------------+-----------+\n",
      "| Retinol/retinyl esters, when in daily dosages in excess of 10,000 IU, or 3,000 retinol equivalents. | 0.59        | 0.67     |       0.63 |        15 |\n",
      "+-----------------------------------------------------------------------------------------------------+-------------+----------+------------+-----------+\n",
      "| Titanium dioxide                                                                                    | 1.0         | 0.81     |       0.9  |       465 |\n",
      "+-----------------------------------------------------------------------------------------------------+-------------+----------+------------+-----------+\n",
      "| Toluene                                                                                             | 0.0         | 0.0      |       0    |         1 |\n",
      "+-----------------------------------------------------------------------------------------------------+-------------+----------+------------+-----------+\n",
      "| Vitamin A                                                                                           | 0.0         | 0.0      |       0    |         1 |\n",
      "+-----------------------------------------------------------------------------------------------------+-------------+----------+------------+-----------+\n",
      "| Vitamin A palmitate                                                                                 | 0.0         | 0.0      |       0    |         2 |\n",
      "+-----------------------------------------------------------------------------------------------------+-------------+----------+------------+-----------+\n",
      "| accuracy                                                                                            |             |          |       0.78 |       499 |\n",
      "+-----------------------------------------------------------------------------------------------------+-------------+----------+------------+-----------+\n",
      "| macro avg                                                                                           | 0.13        | 0.21     |       0.13 |       499 |\n",
      "+-----------------------------------------------------------------------------------------------------+-------------+----------+------------+-----------+\n",
      "| weighted avg                                                                                        | 0.95        | 0.78     |       0.86 |       499 |\n",
      "+-----------------------------------------------------------------------------------------------------+-------------+----------+------------+-----------+\n"
     ]
    }
   ],
   "source": [
    "#printing the classification report (bonus)\n",
    "print(\"================================================\")\n",
    "print(\"Naive Bayes Report\")\n",
    "print(\"================================================\")\n",
    "print(myevaluation.classification_report(y_tests, y_pred_naive, False))\n",
    "print(\"================================================\")\n",
    "print(\"kNN Report\")\n",
    "print(\"================================================\")\n",
    "print(myevaluation.classification_report(y_tests, y_pred_knn, False))"
   ]
  },
  {
   "cell_type": "markdown",
   "metadata": {},
   "source": [
    "## Classification Web App"
   ]
  },
  {
   "cell_type": "markdown",
   "metadata": {},
   "source": [
    "To run the flask app you need to run the cosmetic_app.py file visit the link given when running to ensure the landing page appears and then for example, you can click the link in cosmetic_data.py to see the prediction that the model makes based on the query string given. You then should be taken to a page that displays the prediction for the unseen instance."
   ]
  },
  {
   "cell_type": "markdown",
   "metadata": {},
   "source": [
    "## Conclusion "
   ]
  },
  {
   "cell_type": "markdown",
   "metadata": {},
   "source": [
    "Overall, our biggest challenge with this dataset was deciding what a reasonable distribution of data looked like and how to optimize the run time for each of the classifiers on such a large set of data. We were extremely interested in using a larger dataset because we have never worked with data in this large of a scope before. The classification approach that helped us was narrowing the data set down to only 9 possible class labels, 6 instances, just above 15000 instances and giving our classifiers the same testing and training data (except for random forest). The performance of these classifiers could be improved by narrowing down the possible class labels, instances and possibly introducing one or two more attributes to help refine searches."
   ]
  },
  {
   "cell_type": "markdown",
   "metadata": {},
   "source": [
    "## Acknowledgements:"
   ]
  },
  {
   "cell_type": "markdown",
   "metadata": {},
   "source": [
    "Kaggle dataset used in experiment: https://www.kaggle.com/datasets/kingabzpro/cosmetics-datasets?resource=download\n",
    "\n",
    "California Cosmetics Dataset: https://catalog.data.gov/dataset/chemicals-in-cosmetics-c4363"
   ]
  }
 ],
 "metadata": {
  "kernelspec": {
   "display_name": "base",
   "language": "python",
   "name": "python3"
  },
  "language_info": {
   "codemirror_mode": {
    "name": "ipython",
    "version": 3
   },
   "file_extension": ".py",
   "mimetype": "text/x-python",
   "name": "python",
   "nbconvert_exporter": "python",
   "pygments_lexer": "ipython3",
   "version": "3.12.4"
  }
 },
 "nbformat": 4,
 "nbformat_minor": 2
}
